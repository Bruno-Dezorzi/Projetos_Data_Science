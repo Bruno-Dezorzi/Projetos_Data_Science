import numpy as np


# cria uma matriz unidimensional
mt = np.array([12,24,36,48])
print(mt)
print(type(mt))


# criar com um tipo especifico
mtfloat = np.array([12,24,36,48], dtype = np.float64)
print(mtfloat)
print(type(mtfloat))


# mudar a tipagem
mtnew = np.array([1,2,3.55,5.66,7.1345])
print(mtnew)

# Truncado

mtnewint = mtnew.astype(np.int64)
print(mtnewint)



