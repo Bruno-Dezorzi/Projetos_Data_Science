# Dicionário: estrutura chave: valor
notas = {'João' : 6.0, "Maria": 8.0, 'Pedro': 6.5}
print(notas)
print(notas["João"])


# as chaves
print(notas.keys())
# Os valores
print(notas.values())


# testar a existência
print('João' in notas)
print('Fernando' in notas)


# Apaga elementos
del notas['João']
print('João' in notas)
print(notas)


# Incluir elemento
notas['Ana'] = 9.0
print(notas)


# Busca um valor, se não encontrar, pega o segundo parâmetro
notas.get("Geraldo","Não encontrado")


# sets são conjuntos de dados não ordenados e não repetidos
bigdata = {"Spark", 'Hive', 'Sqoop'}
print(bigdata)


# Verificar existência
print('Spark' in bigdata)


#adiciona elemento
bigdata.add('Hadoop')
bigdata


len(bigdata)


bigdata.add('Spark')
bigdata


#Tuplas são listas imutaveisabs
tupla = (1,2,3,4,5)
tupla


tupla[4]



