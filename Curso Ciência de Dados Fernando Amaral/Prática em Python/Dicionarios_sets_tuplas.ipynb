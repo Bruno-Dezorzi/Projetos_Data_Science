{
 "cells": [
  {
   "cell_type": "code",
   "execution_count": 7,
   "id": "7a02078f-5a59-4a55-8e49-a2d403832a80",
   "metadata": {},
   "outputs": [
    {
     "name": "stdout",
     "output_type": "stream",
     "text": [
      "{'João': 6.0, 'Maria': 8.0, 'Pedro': 6.5}\n",
      "6.0\n"
     ]
    }
   ],
   "source": [
    "# Dicionário: estrutura chave: valor\n",
    "notas = {'João' : 6.0, \"Maria\": 8.0, 'Pedro': 6.5}\n",
    "print(notas)\n",
    "print(notas[\"João\"])"
   ]
  },
  {
   "cell_type": "code",
   "execution_count": 10,
   "id": "aaaaa5fd-5390-4035-85f1-d093027b0956",
   "metadata": {},
   "outputs": [
    {
     "name": "stdout",
     "output_type": "stream",
     "text": [
      "dict_keys(['João', 'Maria', 'Pedro'])\n",
      "dict_values([6.0, 8.0, 6.5])\n"
     ]
    }
   ],
   "source": [
    "# as chaves\n",
    "print(notas.keys())\n",
    "# Os valores\n",
    "print(notas.values())"
   ]
  },
  {
   "cell_type": "code",
   "execution_count": 11,
   "id": "162032ec-3215-4dea-a0cc-64e45afd76f7",
   "metadata": {},
   "outputs": [
    {
     "name": "stdout",
     "output_type": "stream",
     "text": [
      "True\n",
      "False\n"
     ]
    }
   ],
   "source": [
    "# testar a existência\n",
    "print('João' in notas)\n",
    "print('Fernando' in notas)"
   ]
  },
  {
   "cell_type": "code",
   "execution_count": 12,
   "id": "fe54d729-8f47-42ee-bb3c-914284102204",
   "metadata": {},
   "outputs": [
    {
     "name": "stdout",
     "output_type": "stream",
     "text": [
      "False\n",
      "{'Maria': 8.0, 'Pedro': 6.5}\n"
     ]
    }
   ],
   "source": [
    "# Apaga elementos\n",
    "del notas['João']\n",
    "print('João' in notas)\n",
    "print(notas)"
   ]
  },
  {
   "cell_type": "code",
   "execution_count": 13,
   "id": "c9ae110d-ac60-4ad0-82b7-debec0abd52d",
   "metadata": {},
   "outputs": [
    {
     "name": "stdout",
     "output_type": "stream",
     "text": [
      "{'Maria': 8.0, 'Pedro': 6.5, 'Ana': 9.0}\n"
     ]
    }
   ],
   "source": [
    "# Incluir elemento\n",
    "notas['Ana'] = 9.0\n",
    "print(notas)"
   ]
  },
  {
   "cell_type": "code",
   "execution_count": 14,
   "id": "41b9c6aa-5b33-4fbc-9437-b3ef22334036",
   "metadata": {},
   "outputs": [
    {
     "data": {
      "text/plain": [
       "'Não encontrado'"
      ]
     },
     "execution_count": 14,
     "metadata": {},
     "output_type": "execute_result"
    }
   ],
   "source": [
    "# Busca um valor, se não encontrar, pega o segundo parâmetro\n",
    "notas.get(\"Geraldo\",\"Não encontrado\")"
   ]
  },
  {
   "cell_type": "code",
   "execution_count": 15,
   "id": "767c27a6-b537-4c60-9226-940b7b7615df",
   "metadata": {},
   "outputs": [
    {
     "name": "stdout",
     "output_type": "stream",
     "text": [
      "{'Sqoop', 'Spark', 'Hive'}\n"
     ]
    }
   ],
   "source": [
    "# sets são conjuntos de dados não ordenados e não repetidos\n",
    "bigdata = {\"Spark\", 'Hive', 'Sqoop'}\n",
    "print(bigdata)"
   ]
  },
  {
   "cell_type": "code",
   "execution_count": 16,
   "id": "bdea7f1a-8a5b-4b19-bf39-aa21c5a843f4",
   "metadata": {},
   "outputs": [
    {
     "name": "stdout",
     "output_type": "stream",
     "text": [
      "True\n"
     ]
    }
   ],
   "source": [
    "# Verificar existência\n",
    "print('Spark' in bigdata)"
   ]
  },
  {
   "cell_type": "code",
   "execution_count": 17,
   "id": "5f8dc738-5728-4d5e-bed7-1b4decc9814e",
   "metadata": {},
   "outputs": [
    {
     "data": {
      "text/plain": [
       "{'Hadoop', 'Hive', 'Spark', 'Sqoop'}"
      ]
     },
     "execution_count": 17,
     "metadata": {},
     "output_type": "execute_result"
    }
   ],
   "source": [
    "#adiciona elemento\n",
    "bigdata.add('Hadoop')\n",
    "bigdata"
   ]
  },
  {
   "cell_type": "code",
   "execution_count": 18,
   "id": "b7a7997a-ed5c-4fea-8ce6-5f5774c966bc",
   "metadata": {},
   "outputs": [
    {
     "data": {
      "text/plain": [
       "4"
      ]
     },
     "execution_count": 18,
     "metadata": {},
     "output_type": "execute_result"
    }
   ],
   "source": [
    "len(bigdata)"
   ]
  },
  {
   "cell_type": "code",
   "execution_count": 20,
   "id": "bf348fa8-08aa-4676-be0e-ced844170f8f",
   "metadata": {},
   "outputs": [
    {
     "data": {
      "text/plain": [
       "{'Hadoop', 'Hive', 'Spark', 'Sqoop'}"
      ]
     },
     "execution_count": 20,
     "metadata": {},
     "output_type": "execute_result"
    }
   ],
   "source": [
    "bigdata.add('Spark')\n",
    "bigdata"
   ]
  },
  {
   "cell_type": "code",
   "execution_count": 21,
   "id": "9c1677f5-f417-4414-9250-e4ab2dd46a7e",
   "metadata": {},
   "outputs": [
    {
     "data": {
      "text/plain": [
       "(1, 2, 3, 4, 5)"
      ]
     },
     "execution_count": 21,
     "metadata": {},
     "output_type": "execute_result"
    }
   ],
   "source": [
    "#Tuplas são listas imutaveisabs\n",
    "tupla = (1,2,3,4,5)\n",
    "tupla"
   ]
  },
  {
   "cell_type": "code",
   "execution_count": 24,
   "id": "ac6957bb-bc6d-4851-aa5e-442697f27c7b",
   "metadata": {},
   "outputs": [
    {
     "data": {
      "text/plain": [
       "5"
      ]
     },
     "execution_count": 24,
     "metadata": {},
     "output_type": "execute_result"
    }
   ],
   "source": [
    "tupla[4]"
   ]
  },
  {
   "cell_type": "code",
   "execution_count": null,
   "id": "5bf46882-ea21-474e-95e7-f72ad4b1921d",
   "metadata": {},
   "outputs": [],
   "source": []
  }
 ],
 "metadata": {
  "kernelspec": {
   "display_name": "Python 3 (ipykernel)",
   "language": "python",
   "name": "python3"
  },
  "language_info": {
   "codemirror_mode": {
    "name": "ipython",
    "version": 3
   },
   "file_extension": ".py",
   "mimetype": "text/x-python",
   "name": "python",
   "nbconvert_exporter": "python",
   "pygments_lexer": "ipython3",
   "version": "3.11.7"
  }
 },
 "nbformat": 4,
 "nbformat_minor": 5
}
