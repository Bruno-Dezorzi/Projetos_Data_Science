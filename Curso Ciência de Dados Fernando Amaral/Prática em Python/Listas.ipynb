{
 "cells": [
  {
   "cell_type": "code",
   "execution_count": 8,
   "id": "3a0c513e-f196-4d8b-8fbe-371f7301fe71",
   "metadata": {},
   "outputs": [
    {
     "name": "stdout",
     "output_type": "stream",
     "text": [
      "[1, 2, 3, 4, 5]\n",
      "<class 'list'>\n"
     ]
    }
   ],
   "source": [
    "# forma de criar lista\n",
    "lst = [1,2,3,4,5]\n",
    "print(lst)\n",
    "print(type(lst))"
   ]
  },
  {
   "cell_type": "code",
   "execution_count": 9,
   "id": "d06843f8-4219-4600-a150-a5ca58a97b90",
   "metadata": {},
   "outputs": [
    {
     "name": "stdout",
     "output_type": "stream",
     "text": [
      "[1, 2, '3', True]\n"
     ]
    }
   ],
   "source": [
    "lst2 = [1,2,\"3\", True]\n",
    "print(lst2)"
   ]
  },
  {
   "cell_type": "code",
   "execution_count": 12,
   "id": "962ae8e8-2d0d-411e-b0d5-181952baa0fc",
   "metadata": {},
   "outputs": [
    {
     "name": "stdout",
     "output_type": "stream",
     "text": [
      "[1, [2, 3, 5], 4]\n"
     ]
    }
   ],
   "source": [
    "lst3 = [1,[2,3,5],4]\n",
    "print(lst3)"
   ]
  },
  {
   "cell_type": "code",
   "execution_count": 13,
   "id": "0b09a098-7beb-4623-b716-48387e4335d6",
   "metadata": {},
   "outputs": [
    {
     "name": "stdout",
     "output_type": "stream",
     "text": [
      "[0, 1, 2, 3, 4, 5, 6, 7, 8, 9, 10]\n"
     ]
    }
   ],
   "source": [
    "#Criando com range\n",
    "lsrange = list(range(0,11,1))\n",
    "print(lsrange)"
   ]
  },
  {
   "cell_type": "code",
   "execution_count": 14,
   "id": "35c68061-dfcd-4251-8086-62a2920485cd",
   "metadata": {},
   "outputs": [
    {
     "name": "stdout",
     "output_type": "stream",
     "text": [
      "11\n"
     ]
    }
   ],
   "source": [
    "# Ver comprimento\n",
    "print(len(lsrange))"
   ]
  },
  {
   "cell_type": "code",
   "execution_count": 15,
   "id": "cdc9429e-1db2-4f9e-926d-ae7307ca824d",
   "metadata": {},
   "outputs": [
    {
     "name": "stdout",
     "output_type": "stream",
     "text": [
      "[2, 3, 5]\n"
     ]
    }
   ],
   "source": [
    "#Acessar elemento\n",
    "print(lst3[1])"
   ]
  },
  {
   "cell_type": "code",
   "execution_count": 16,
   "id": "bdea2acc-44e8-42c6-9996-fc93e2965be3",
   "metadata": {},
   "outputs": [
    {
     "name": "stdout",
     "output_type": "stream",
     "text": [
      "0\n",
      "1\n",
      "2\n",
      "3\n",
      "4\n",
      "5\n",
      "6\n",
      "7\n",
      "8\n",
      "9\n",
      "10\n"
     ]
    }
   ],
   "source": [
    "# Percorrer a lista\n",
    "for n in range(0,len(lsrange)):\n",
    "    print(lsrange[n])\n",
    "    n =+ 1"
   ]
  },
  {
   "cell_type": "code",
   "execution_count": null,
   "id": "177b2c99-f3a8-4ed7-b2e0-3ab6b6519473",
   "metadata": {},
   "outputs": [],
   "source": []
  }
 ],
 "metadata": {
  "kernelspec": {
   "display_name": "Python 3 (ipykernel)",
   "language": "python",
   "name": "python3"
  },
  "language_info": {
   "codemirror_mode": {
    "name": "ipython",
    "version": 3
   },
   "file_extension": ".py",
   "mimetype": "text/x-python",
   "name": "python",
   "nbconvert_exporter": "python",
   "pygments_lexer": "ipython3",
   "version": "3.11.7"
  }
 },
 "nbformat": 4,
 "nbformat_minor": 5
}
