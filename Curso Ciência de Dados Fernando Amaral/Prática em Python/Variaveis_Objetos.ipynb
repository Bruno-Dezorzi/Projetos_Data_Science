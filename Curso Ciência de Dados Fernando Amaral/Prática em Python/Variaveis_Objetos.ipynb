{
 "cells": [
  {
   "cell_type": "code",
   "execution_count": 1,
   "id": "48ae72bd-e093-4b64-ab54-f4731589b400",
   "metadata": {},
   "outputs": [
    {
     "name": "stdout",
     "output_type": "stream",
     "text": [
      "Python\n",
      "False\n",
      "True\n"
     ]
    }
   ],
   "source": [
    "# Criando varíaveis\n",
    "x = 1\n",
    "y = 3.13\n",
    "m = \"Python\"\n",
    "\n",
    "print(m)\n",
    "\n",
    "w = True\n",
    "y = False\n",
    "print(y)\n",
    "print(w != y)\n"
   ]
  },
  {
   "cell_type": "code",
   "execution_count": 3,
   "id": "7aecb5a6-3b8a-4cf2-aa13-123252bb1544",
   "metadata": {},
   "outputs": [
    {
     "name": "stdout",
     "output_type": "stream",
     "text": [
      "30.0\n"
     ]
    }
   ],
   "source": [
    "# Calculadora\n",
    "x = 10\n",
    "y = 20\n",
    "z = 100\n",
    "w = (x+y)*z/100\n",
    "print(w)"
   ]
  },
  {
   "cell_type": "code",
   "execution_count": 6,
   "id": "1a687401-7cb2-404e-87f0-7ce9e3056e76",
   "metadata": {},
   "outputs": [
    {
     "name": "stdout",
     "output_type": "stream",
     "text": [
      "Este texto será impresso no console\n",
      "10\n",
      "Texto e duas variáveis:  10 , 100\n"
     ]
    }
   ],
   "source": [
    "#Exibir texto no console\n",
    "print(\"Este texto será impresso no console\")\n",
    "print(x)\n",
    "print(\"Texto e duas variáveis: \" , x ,\",\", z)"
   ]
  },
  {
   "cell_type": "code",
   "execution_count": 7,
   "id": "41829b61-cda7-4415-acc6-2c45ddd4a357",
   "metadata": {},
   "outputs": [
    {
     "name": "stdout",
     "output_type": "stream",
     "text": [
      "<class 'str'>\n",
      "<class 'int'>\n"
     ]
    }
   ],
   "source": [
    "# Verificar tipo do dado\n",
    "print(type(m))\n",
    "print(type(x))"
   ]
  },
  {
   "cell_type": "code",
   "execution_count": 8,
   "id": "3ba2ddd2-1dbd-4a08-a946-ecf075d57673",
   "metadata": {},
   "outputs": [
    {
     "name": "stdout",
     "output_type": "stream",
     "text": [
      "Informe o valor:\n"
     ]
    },
    {
     "name": "stdin",
     "output_type": "stream",
     "text": [
      " Ola\n",
      "Informe seu valor Tudo bem\n"
     ]
    }
   ],
   "source": [
    "#Entrada de valor com msg separada e junto\n",
    "print('Informe o valor:')\n",
    "i = input()\n",
    "#Mostra tipo String\n",
    "i = input(\"Informe seu valor\")"
   ]
  },
  {
   "cell_type": "code",
   "execution_count": 10,
   "id": "76c6b735-950b-4e6e-8f93-b09bcca09310",
   "metadata": {},
   "outputs": [
    {
     "name": "stdin",
     "output_type": "stream",
     "text": [
      "Digite um número 80\n"
     ]
    },
    {
     "name": "stdout",
     "output_type": "stream",
     "text": [
      "<class 'str'>\n",
      "<class 'float'>\n"
     ]
    }
   ],
   "source": [
    "# Conversão de valores\n",
    "# Para inteiros\n",
    "var = input(\"Digite um número\")\n",
    "print(type(var))\n",
    "# Conversão\n",
    "var = float(var)\n",
    "print(type(var))"
   ]
  },
  {
   "cell_type": "code",
   "execution_count": 13,
   "id": "433b819b-cfc9-464c-af37-cfe3c161649b",
   "metadata": {},
   "outputs": [],
   "source": [
    "# \"#\" é para comentar uma linha"
   ]
  },
  {
   "cell_type": "code",
   "execution_count": null,
   "id": "4d063c8c-7667-4878-bd3e-e2c7d1dd5819",
   "metadata": {},
   "outputs": [],
   "source": []
  }
 ],
 "metadata": {
  "kernelspec": {
   "display_name": "Python 3 (ipykernel)",
   "language": "python",
   "name": "python3"
  },
  "language_info": {
   "codemirror_mode": {
    "name": "ipython",
    "version": 3
   },
   "file_extension": ".py",
   "mimetype": "text/x-python",
   "name": "python",
   "nbconvert_exporter": "python",
   "pygments_lexer": "ipython3",
   "version": "3.11.7"
  }
 },
 "nbformat": 4,
 "nbformat_minor": 5
}
