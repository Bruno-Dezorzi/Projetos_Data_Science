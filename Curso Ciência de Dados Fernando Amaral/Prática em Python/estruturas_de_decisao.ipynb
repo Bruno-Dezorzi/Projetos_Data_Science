{
 "cells": [
  {
   "cell_type": "code",
   "execution_count": 1,
   "id": "a358fe38-d79b-475b-80e7-609bbc8f7be7",
   "metadata": {},
   "outputs": [
    {
     "name": "stdin",
     "output_type": "stream",
     "text": [
      "Digite uma nota para avaliação 8\n"
     ]
    },
    {
     "name": "stdout",
     "output_type": "stream",
     "text": [
      "Aprovado\n"
     ]
    }
   ],
   "source": [
    "nota = float(input(\"Digite uma nota para avaliação\"))\n",
    "if nota >= 7:\n",
    "    print(\"Aprovado\")\n",
    "else:\n",
    "    print(\"Reprovado\")"
   ]
  },
  {
   "cell_type": "code",
   "execution_count": 4,
   "id": "d6cbdabb-e373-42a1-8190-78324d8ce905",
   "metadata": {},
   "outputs": [
    {
     "name": "stdin",
     "output_type": "stream",
     "text": [
      "Digite uma nota para avaliação 4\n"
     ]
    },
    {
     "name": "stdout",
     "output_type": "stream",
     "text": [
      "Reprovado\n"
     ]
    }
   ],
   "source": [
    "nota = float(input(\"Digite uma nota para avaliação\"))\n",
    "if nota >= 7:\n",
    "    print(\"Aprovado\")\n",
    "elif nota >= 5:\n",
    "    print(\"Recuperação\")\n",
    "else:\n",
    "    print(\"Reprovado\")"
   ]
  },
  {
   "cell_type": "code",
   "execution_count": 9,
   "id": "0609c4c7-3ab8-4bdd-90ee-ceacb7ee8edd",
   "metadata": {},
   "outputs": [
    {
     "name": "stdout",
     "output_type": "stream",
     "text": [
      "Nota não considerada\n"
     ]
    }
   ],
   "source": [
    "# Utilizando o match-case\n",
    "\n",
    "def situacaoAluno(nota):\n",
    "    try:\n",
    "        match nota:\n",
    "            case 7:\n",
    "                print(\"Aprovado\")\n",
    "            case 5:\n",
    "                print(\"Recuperação\")\n",
    "            case 3:\n",
    "                print(\"Reprovado\")\n",
    "            case _:\n",
    "                print(\"Nota não considerada\")\n",
    "    except Exception as e:\n",
    "        print(f\"Erro: {e}\")\n",
    "\n",
    "\n",
    "situacaoAluno(8)"
   ]
  },
  {
   "cell_type": "code",
   "execution_count": null,
   "id": "d8ccbaad-06f5-46a6-a9b2-2e4010cf53a9",
   "metadata": {},
   "outputs": [],
   "source": []
  }
 ],
 "metadata": {
  "kernelspec": {
   "display_name": "Python 3 (ipykernel)",
   "language": "python",
   "name": "python3"
  },
  "language_info": {
   "codemirror_mode": {
    "name": "ipython",
    "version": 3
   },
   "file_extension": ".py",
   "mimetype": "text/x-python",
   "name": "python",
   "nbconvert_exporter": "python",
   "pygments_lexer": "ipython3",
   "version": "3.11.7"
  }
 },
 "nbformat": 4,
 "nbformat_minor": 5
}
