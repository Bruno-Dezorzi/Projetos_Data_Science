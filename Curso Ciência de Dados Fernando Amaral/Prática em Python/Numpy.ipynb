{
 "cells": [
  {
   "cell_type": "code",
   "execution_count": 1,
   "id": "607b41e6-89c8-4096-99a4-3bf52958cb73",
   "metadata": {},
   "outputs": [],
   "source": [
    "import numpy as np"
   ]
  },
  {
   "cell_type": "code",
   "execution_count": 2,
   "id": "446e12d0-c162-4278-ad40-d42e278d8413",
   "metadata": {},
   "outputs": [
    {
     "name": "stdout",
     "output_type": "stream",
     "text": [
      "[12 24 36 48]\n",
      "<class 'numpy.ndarray'>\n"
     ]
    }
   ],
   "source": [
    "# cria uma matriz unidimensional\n",
    "mt = np.array([12,24,36,48])\n",
    "print(mt)\n",
    "print(type(mt))"
   ]
  },
  {
   "cell_type": "code",
   "execution_count": 3,
   "id": "3c3b9c14-d2f7-4111-aba3-89335b58c9e0",
   "metadata": {},
   "outputs": [
    {
     "name": "stdout",
     "output_type": "stream",
     "text": [
      "[12. 24. 36. 48.]\n",
      "<class 'numpy.ndarray'>\n"
     ]
    }
   ],
   "source": [
    "# criar com um tipo especifico\n",
    "mtfloat = np.array([12,24,36,48], dtype = np.float64)\n",
    "print(mtfloat)\n",
    "print(type(mtfloat))"
   ]
  },
  {
   "cell_type": "code",
   "execution_count": 8,
   "id": "1a0d338c-b42c-41ab-bc20-47dfa533fddf",
   "metadata": {},
   "outputs": [
    {
     "name": "stdout",
     "output_type": "stream",
     "text": [
      "[1.     2.     3.55   5.66   7.1345]\n",
      "[1 2 3 5 7]\n"
     ]
    }
   ],
   "source": [
    "# mudar a tipagem\n",
    "mtnew = np.array([1,2,3.55,5.66,7.1345])\n",
    "print(mtnew)\n",
    "\n",
    "# Truncado\n",
    "\n",
    "mtnewint = mtnew.astype(np.int64)\n",
    "print(mtnewint)"
   ]
  },
  {
   "cell_type": "code",
   "execution_count": null,
   "id": "d7d2b5e6-e946-4cd3-8dd1-23ebacd56b08",
   "metadata": {},
   "outputs": [],
   "source": []
  }
 ],
 "metadata": {
  "kernelspec": {
   "display_name": "Python 3 (ipykernel)",
   "language": "python",
   "name": "python3"
  },
  "language_info": {
   "codemirror_mode": {
    "name": "ipython",
    "version": 3
   },
   "file_extension": ".py",
   "mimetype": "text/x-python",
   "name": "python",
   "nbconvert_exporter": "python",
   "pygments_lexer": "ipython3",
   "version": "3.11.7"
  }
 },
 "nbformat": 4,
 "nbformat_minor": 5
}
