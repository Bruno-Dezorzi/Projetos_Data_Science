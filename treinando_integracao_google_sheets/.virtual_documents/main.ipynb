


def main():
    """Shows basic usage of the Sheets API.
    Prints values from a sample spreadsheet.
    """
    creds = None
    if os.path.exists("token.json"):
        creds = Credentials.from_authorized_user_file("token.json", SCOPES)
    if not creds or not creds.valid:
        if creds and creds.expired and creds.refresh_token:
            creds.refresh(Request())
        else:
            flow = InstalledAppFlow.from_client_secrets_file(
                "client_secret_1003057466815-eri6a3v0j1ktaj6983mnjr80slp8h3je.apps.googleusercontent.com.json", SCOPES
            )
            creds = flow.run_local_server(port=0)
        with open("token.json", "w") as token:
            token.write(creds.to_json())

    try:
        service = build("sheets", "v4", credentials=creds)

        # Primeiro, obtenha as informações da planilha
        sheet_metadata = service.spreadsheets().get(spreadsheetId=SAMPLE_SPREADSHEET_ID).execute()
        sheet = sheet_metadata['sheets'][0]  # Pega a primeira aba
        row_count = sheet['properties']['gridProperties']['rowCount']
        col_count = sheet['properties']['gridProperties']['columnCount']

        # Cria um intervalo dinâmico
        SAMPLE_RANGE_NAME = f"principal!A1:{chr(65 + col_count - 1)}{row_count}"

        # Call the Sheets API
        result = (
            service.spreadsheets()
            .values()
            .get(spreadsheetId=SAMPLE_SPREADSHEET_ID, range=SAMPLE_RANGE_NAME)
            .execute()
        )
        values = result.get("values", [])
        
        if not values:
            print("No data found.")
            return []

        return values  # Retorna os valores obtidos

    except HttpError as err:
        print(err)
        return []  # Retorna uma lista vazia em caso de erro

if __name__ == "__main__":
    data = main()



import pandas as pd
df = pd.DataFrame(data)
df



