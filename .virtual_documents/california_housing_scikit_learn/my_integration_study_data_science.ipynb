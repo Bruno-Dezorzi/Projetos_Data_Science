


import pandas as pd
import numpy as np
import statistics
from sklearn.datasets import fetch_california_housing


california_housing_data = fetch_california_housing()
print(california_housing_data.keys())
df = fetch_california_housing(as_frame= True)
df = df.frame
df.head()


def analise_features_cs_min_max(feature):
    feature_normal = feature

    feature_normal_media = feature_normal.median()
    feature_normal_std = feature_normal.std()

    feature_max = feature_normal.max()
    feature_min = feature_normal.min()

    indexes_max = feature_normal[feature_normal == feature_max].index
    indexes_min = feature_normal[feature_normal == feature_min].index

    # Remover max e min corretamente
    feature_sem_mm = feature_normal.drop(indexes_max).drop(indexes_min)

    feature_sem_mm_media = feature_sem_mm.median()
    feature_sem_mm_std = feature_sem_mm.std()

    print(f"A feature {feature.name} possui:\n"
          f"Normal -> média: {feature_normal_media:.2f} desvio padrão: {feature_normal_std:.2f}, Coeficiente de Variação: {(feature_normal_std/feature_normal_media*100):.2f}% e com {feature_normal.count()} linhas\n"
          f"Sem max e min -> média: {feature_sem_mm_media:.2f} desvio padrão: {feature_sem_mm_std:.2f} Coeficiente de Variação: {(feature_sem_mm_std/feature_sem_mm_media*100):.2f}%  e com {feature_sem_mm.count()} linhas\n")



def analise_geral_cs_max_min(dataframe):
    qtde_features = dataframe.shape[1]

    for i in range(qtde_features):
        feature_name = dataframe.columns[i]  # Nome da feature
        print(f"Analisando a feature: {feature_name}")
        analise_features_cs_min_max(dataframe.iloc[:, i])


analise_geral_cs_max_min(df)





import matplotlib.pyplot as plt
import seaborn as sns
import plotly.express as px


# Plotando boxplot de cada feature
plt.figure(0, figsize=(30, 12))

cols = df.columns  # Obtém os nomes das colunas

sns.set_style('dark')

for i, col in enumerate(cols):
    plt.subplot(3, 3, i + 1)  # Ajusta o índice para o subplot
    sns.boxenplot(data=df, x=col, color='green')
    plt.title(col)  # Adiciona o título da coluna

plt.tight_layout()  # Ajusta o layout para evitar sobreposição
plt.show()


data_corr = df.corr()

plt.figure(figsize= (8,8))
sns.heatmap(data_corr, annot=True, cmap= "viridis")
plt.show()


def dispersao_var(x, y):
    sns.set_theme(style="dark")
    f, ax = plt.subplots(figsize=(8, 8))

    # Scatter plot
    scatter = sns.scatterplot(x=x, y=y, s=5, color=".15", ax=ax)

    # Histograma com densidade e barra de cores
    hist = sns.histplot(x=x, y=y, bins=50, pthresh=.1, cmap="mako", ax=ax, cbar=True)

    # KDE sem barra de cores
    sns.kdeplot(x=x, y=y, levels=5, color="r", linewidths=1, ax=ax)

    # Adiciona a barra de cores do histograma
    cbar = plt.colorbar(hist.collections[0], ax=ax)
    cbar.set_label('Densidade')  # Rótulo da barra de cores

    plt.xlabel('MedHouseVal')
    plt.ylabel('MedInc')
    plt.title('Dispersão de MedHouseVal vs MedInc')
    plt.show()

# Chame a função com seus dados
dispersao_var(df['MedHouseVal'], df['MedInc'])


fig = px.density_mapbox(df, 
                         lat='Latitude', 
                         lon='Longitude', 
                         radius=10, 
                         mapbox_style='open-street-map',
                         width=1200,   
                         height=800) 

fig.show()


fig = px.scatter_mapbox(df,
                        lat= 'Latitude',
                        lon = 'Longitude',
                        size= 'MedHouseVal',
                        color = 'MedHouseVal',
                        mapbox_style='open-street-map',
                        title='Mapa de Bolha -> MedHouseVal',
                        width=1200,   
                         height=800)
fig.show()












