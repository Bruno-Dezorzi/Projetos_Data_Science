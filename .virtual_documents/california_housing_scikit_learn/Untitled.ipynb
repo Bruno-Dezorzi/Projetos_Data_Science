


import pandas as pd
import numpy as np
from sklearn.datasets import fetch_california_housing
df = fetch_california_housing(as_frame= True)
df = df.frame
display(df.head())
print(df.info())


X_df = df[:,1:8].values
y_df = df[:,8].values

from sklearn.model_selection import train_test_split
X_treino, X_teste,y_treino, y_teste = train_test_split(X_df, y_df, test_size=0.2, random_state= 42)



from sklearn.tree import DecisionTreeRegressor


arvore = DecisionTreeRegressor()
arvore.fit(X_treino,y_treino)


print(arvore.get_params())


arvore.feature_importances_


import matplotlib.pyplot as plt
from sklearn import tree
plt.figure(figsize=(12,8))  # Define o tamanho da figura
tree.plot_tree(arvore, 
               feature_names=df[:,1:8].columns,  # Nomes das features (se X_treino for um DataFrame)
               filled=True,  # Preencher os nós com cores
               rounded=True,  # Canto arredondado nos nós
               fontsize=10)  # Tamanho da fonte

plt.show()



