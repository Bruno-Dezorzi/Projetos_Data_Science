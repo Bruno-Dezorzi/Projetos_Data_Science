import pandas as pd
import numpy as np
from sklearn.datasets import load_iris


X,y = load_iris(return_X_y= True, as_frame= True)


from sklearn.preprocessing import StandardScaler
sdscaler = StandardScaler()
X = sdscaler.fit_transform(X)
X


from sklearn.model_selection import train_test_split
X_train, X_test, y_train,y_test = train_test_split(X,y, test_size= 0.2, random_state= 56)


from sklearn.svm import LinearSVC
spvm = LinearSVC
model_iris_spvm = LinearSVC.fit(X_train,y_train)


y_predic = model_iris_gaussian.predict(X_test)
y_predic


from sklearn.metrics import accuracy_score
result = accuracy_score(y_predic,y_test)
result


print("A acurácia do Naive Bayes aplicada ficou de {}%"
      .format(round((result*100),0))
     )



