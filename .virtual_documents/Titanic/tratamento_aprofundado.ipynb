


import pandas as pd
import numpy as np


import pickle

with open('titanic_tratado.pkl', 'rb') as f:
    df = pickle.load(f)

df.head()








import matplotlib.pyplot as plt
import seaborn as sns

plt.figure(0,(10,10))

plt.subplot(2,2,1)
sns.boxplot(data= df, y = 'Age')

plt.subplot(2,2,2)
sns.boxplot(data= df, y = 'Fare')

plt.subplot(2,2,3)
sns.histplot(data= df, x = 'Age', kde= True)

plt.subplot(2,2,4)
sns.histplot(data= df, x = 'Fare', kde= True)


import plotly.express as px
import plotly.graph_objects as go
from plotly.subplots import make_subplots

# Supondo que seu DataFrame já esteja carregado como df

# Criar um subplot com 2 linhas e 1 coluna
fig = make_subplots(rows=2, cols=1, subplot_titles=("Boxplot de Age", "Boxplot de Fare"))

# Adicionar boxplot para a coluna 'Age'
fig.add_trace(
    go.Box(y=df['Age'], name='Age', boxmean='sd'),
    row=1, col=1
)

# Adicionar boxplot para a coluna 'Fare'
fig.add_trace(
    go.Box(y=df['Fare'], name='Fare', boxmean='sd'),
    row=2, col=1
)

# Atualizar layout para melhor apresentação
fig.update_layout(title_text='Boxplots de Age e Fare',
                  height=600)  # Ajuste a altura conforme necessário

# Exibir a figura
fig.show()





y_df = df['Survived'].values


 df.drop(columns=['PassengerId', 'Cabin', 'Survived', 'Ticket','Name'], inplace= True)
colunas = df.columns
print(colunas)
display(df)
X_df = df.iloc[:,0:7].values
display(pd.DataFrame(X_df))


# Utilizando o LabelEncoder

from sklearn.preprocessing import LabelEncoder


label_sex = LabelEncoder()
label_embarked = LabelEncoder()


X_df[:,1] = label_sex.fit_transform(X_df[:,1])
X_df[:,6] = label_embarked.fit_transform(X_df[:,6])



from sklearn.preprocessing import MinMaxScaler
scaler = MinMaxScaler()

X_df_scaler = scaler.fit_transform(X_df)
display(pd.DataFrame(X_df_scaler))





for i in range(X_df.shape[1]):
    print(f"Coluna {df.columns[i]} {X_df_scaler[:,i].var()}")


from sklearn.feature_selection import VarianceThreshold

selecao = VarianceThreshold(threshold=  0.02)
X_df_variancia = selecao.fit_transform(X_df_scaler)
X_df_variancia.shape


selecao.variances_


indices = np.where(selecao.variances_ > 0.02)
indices


colunas_usadas = colunas[indices[0]]
print(colunas_usadas)
X_df_cl_selecionadas = df[colunas_usadas.to_list()]
display(X_df_cl_selecionadas)
X_df_cl_selecionadas = X_df_cl_selecionadas.values
#X_df_cl_selecionadas
#y_df


X_df_cl_selecionadas[:,1] = label_sex.fit_transform(X_df_cl_selecionadas[:,1])
X_df_cl_selecionadas[:,3] = label_embarked.fit_transform(X_df_cl_selecionadas[:,3])


from sklearn.preprocessing import OneHotEncoder
from sklearn.compose import ColumnTransformer
onehotencorder = ColumnTransformer(transformers=[('OneHot', OneHotEncoder(),[0,1,2,3])],remainder = 'passthrough')
X_df_cl_selecionadas = onehotencorder.fit_transform(X_df_cl_selecionadas).toarray()


scaler = MinMaxScaler()
X_df_cl_selecionadas = scaler.fit_transform(X_df_cl_selecionadas)
X_df_cl_selecionadas


from sklearn.model_selection import train_test_split
X_df_treinamento,X_df_teste,y_df_treinamento,y_df_teste = train_test_split(X_df_cl_selecionadas,y_df, test_size= 0.15, random_state= 42)
X_df_treinamento.shape, X_df_teste.shape


from sklearn.ensemble import RandomForestClassifier
random_forest =  RandomForestClassifier(criterion = 'entropy', min_samples_leaf =  1, min_samples_split = 3, n_estimators = 100)
random_forest.fit(X_df_treinamento,y_df_treinamento)


from sklearn.metrics import accuracy_score, classification_report
previsoes = random_forest.predict(X_df_teste)
accuracy_score(y_df_teste,previsoes)






