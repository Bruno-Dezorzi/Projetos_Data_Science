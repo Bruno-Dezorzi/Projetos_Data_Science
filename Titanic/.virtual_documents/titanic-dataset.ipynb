import pandas as pd
import numpy as np
import matplotlib.pyplot as plt
import seaborn as sns
import plotly.express as px

df = pd.read_csv("train.csv")
df.head()





df.loc[df['Embarked'] == 'Q', 'Embarked'] = 'Queenstown'
df.loc[df['Embarked'] == 'S', 'Embarked'] = 'Southampton'
df.loc[df['Embarked'] == 'C', 'Embarked'] = 'Cherbourg'

df.head()


df.info()


df.describe()


df.isnull().sum()


# Tratando a coluna Age
media_idade = df.loc[df['Age'].notna()]['Age'].mean() #média das idades com valores
df.fillna({'Age' : media_idade}, inplace = True)
display(df.isnull().sum())


# Tratando a coluna Fare
media_passagem = df.loc[df['Fare'].notna()]['Fare'].mean() #média das passagens com valores
df.fillna({'Fare' : media_passagem}, inplace = True)
display(df.isnull().sum())


# import pickle

# with open('titanic_tratado.pkl', 'wb') as file:
#     pickle.dump(df,file)


display(pd.DataFrame(df['Survived'].value_counts()))
display(pd.DataFrame(df['Pclass'].value_counts()))
display(pd.DataFrame(df['Age'].value_counts()))
display(pd.DataFrame(df['SibSp'].value_counts()))
display(pd.DataFrame(df['Parch'].value_counts()))
display(pd.DataFrame(df['Embarked'].value_counts()))


df.loc[df.Age < 1] # 3/5 Bebês menores de 1 ano morreram


# Correlação de variáveis com possíveis relacionamentos
df[['Age', 'Fare']].corr()



