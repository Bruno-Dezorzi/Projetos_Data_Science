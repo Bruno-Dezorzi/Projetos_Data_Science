import pandas as pd
import numpy as np


data = pd.read_csv("agricultural_raw_material.csv")
data.head()


data.info()


data.describe()


data.isnull().sum()


data_teste = data.dropna(subset=['Hard sawnwood Price'])



data_teste



