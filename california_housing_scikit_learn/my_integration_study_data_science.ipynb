{
 "cells": [
  {
   "cell_type": "markdown",
   "id": "e3b20ac4-253a-4707-8352-8cbe8ee16f52",
   "metadata": {},
   "source": [
    "# Bem-vindo\r\n",
    "\r\n",
    "Me chamo **Bruno Dezorzi**, sou estudante de **Análise e Desenvolvimento de Sistemas** e tenho a ambição de me tornar um **Cientista de Dados**.\r\n",
    "\r\n",
    "Neste script, você verá a aplicação de várias habilidades que um Cientista de Dados precisa dominar.\r\n",
    "\r\n",
    "O dataset utilizado será o **california_housing**, obtido no framework **scikit-learn**.\r\n"
   ]
  },
  {
   "cell_type": "markdown",
   "id": "74f7ee0f-6a0c-486f-b1d9-a3efc8f1af43",
   "metadata": {},
   "source": [
    "# 1. **Domínio de Programação (Python)**"
   ]
  },
  {
   "cell_type": "markdown",
   "id": "607b0be8-633c-46e4-8ca1-f67e8eae63b1",
   "metadata": {},
   "source": [
    "## Manipulação de Dados com Pandas\r\n",
    "\r\n",
    "### Leitura e Escrita de Dados (CSV, Excel, SQL)\r\n",
    "- **Dica**: Use `pd.read_csv('caminho/do/arquivo.csv')` para carregar o dataset `california_housing` em um DataFrame. Se estiver utilizando o dataset do `sklearn`, você pode carregá-lo diretamente com `fetch_california_housing()`.\r\n",
    "- **Exercício**: Salve o DataFrame manipulado em um novo arquivo CSV com `df.to_csv('caminho/do/novo_arquivo.csv')`.\r\n",
    "\r\n",
    "### Seleção, Filtragem e Ordenação de Dados (`loc`, `iloc`)\r\n",
    "- **Dica**: Utilize `df.loc[]` para seleção baseada em rótulos e `df.iloc[]` para seleção baseada em índices.\r\n",
    "- **Exercício**: Filtre os dados para mostrar apenas as linhas onde o valor da coluna `median_house_value` é maior que 200.000 e ordene por `median_income` em ordem decrescente.\r\n",
    "\r\n",
    "### Agrupamento e Agregação de Dados (`groupby`, `agg`)\r\n",
    "- **Dica**: Use `df.groupby('column_name')` para agrupar os dados e `agg()` para aplicar funções de agregação.\r\n",
    "- **Exercício**: Agrupe os dados por `ocean_proximity` e calcule a média de `median_house_value` para cada grupo.\r\n",
    "\r\n",
    "### Tratamento de Valores Ausentes (`dropna`, `fillna`)\r\n",
    "- **Dica**: Aplique `df.dropna()` para remover linhas com valores ausentes e `df.fillna(value)` para substituir valores ausentes.\r\n",
    "- **Exercício**: Substitua valores ausentes na coluna `total_bedrooms` com a média dos valores dessa coluna.\r\n",
    "\r\n",
    "### Merge e Join de DataFrames\r\n",
    "- **Dica**: Utilize `pd.merge(df1, df2, on='key_column')` para combinar DataFrames com base em uma coluna chave.\r\n",
    "- **Exercício**: Se tiver um segundo DataFrame com dados adicionais (por exemplo, dados demográficos), combine-o com o DataFrame `california_housing` usando uma coluna comum, como `longitude` ou `latitude`.\r\n"
   ]
  },
  {
   "cell_type": "code",
   "execution_count": null,
   "id": "e27568af-b095-4ade-a532-8cdffc1ac9a7",
   "metadata": {},
   "outputs": [],
   "source": [
    "import pandas as pd\n",
    "import numpy as np\n",
    "from sklearn.datasets import fetch_california_housing"
   ]
  },
  {
   "cell_type": "code",
   "execution_count": 26,
   "id": "d49540e5-39e6-4af2-ac69-d68ae9956001",
   "metadata": {},
   "outputs": [
    {
     "name": "stdout",
     "output_type": "stream",
     "text": [
      "dict_keys(['data', 'target', 'frame', 'target_names', 'feature_names', 'DESCR'])\n"
     ]
    },
    {
     "data": {
      "text/html": [
       "<div>\n",
       "<style scoped>\n",
       "    .dataframe tbody tr th:only-of-type {\n",
       "        vertical-align: middle;\n",
       "    }\n",
       "\n",
       "    .dataframe tbody tr th {\n",
       "        vertical-align: top;\n",
       "    }\n",
       "\n",
       "    .dataframe thead th {\n",
       "        text-align: right;\n",
       "    }\n",
       "</style>\n",
       "<table border=\"1\" class=\"dataframe\">\n",
       "  <thead>\n",
       "    <tr style=\"text-align: right;\">\n",
       "      <th></th>\n",
       "      <th>MedInc</th>\n",
       "      <th>HouseAge</th>\n",
       "      <th>AveRooms</th>\n",
       "      <th>AveBedrms</th>\n",
       "      <th>Population</th>\n",
       "      <th>AveOccup</th>\n",
       "      <th>Latitude</th>\n",
       "      <th>Longitude</th>\n",
       "      <th>MedHouseVal</th>\n",
       "    </tr>\n",
       "  </thead>\n",
       "  <tbody>\n",
       "    <tr>\n",
       "      <th>0</th>\n",
       "      <td>8.3252</td>\n",
       "      <td>41.0</td>\n",
       "      <td>6.984127</td>\n",
       "      <td>1.023810</td>\n",
       "      <td>322.0</td>\n",
       "      <td>2.555556</td>\n",
       "      <td>37.88</td>\n",
       "      <td>-122.23</td>\n",
       "      <td>4.526</td>\n",
       "    </tr>\n",
       "    <tr>\n",
       "      <th>1</th>\n",
       "      <td>8.3014</td>\n",
       "      <td>21.0</td>\n",
       "      <td>6.238137</td>\n",
       "      <td>0.971880</td>\n",
       "      <td>2401.0</td>\n",
       "      <td>2.109842</td>\n",
       "      <td>37.86</td>\n",
       "      <td>-122.22</td>\n",
       "      <td>3.585</td>\n",
       "    </tr>\n",
       "    <tr>\n",
       "      <th>2</th>\n",
       "      <td>7.2574</td>\n",
       "      <td>52.0</td>\n",
       "      <td>8.288136</td>\n",
       "      <td>1.073446</td>\n",
       "      <td>496.0</td>\n",
       "      <td>2.802260</td>\n",
       "      <td>37.85</td>\n",
       "      <td>-122.24</td>\n",
       "      <td>3.521</td>\n",
       "    </tr>\n",
       "    <tr>\n",
       "      <th>3</th>\n",
       "      <td>5.6431</td>\n",
       "      <td>52.0</td>\n",
       "      <td>5.817352</td>\n",
       "      <td>1.073059</td>\n",
       "      <td>558.0</td>\n",
       "      <td>2.547945</td>\n",
       "      <td>37.85</td>\n",
       "      <td>-122.25</td>\n",
       "      <td>3.413</td>\n",
       "    </tr>\n",
       "    <tr>\n",
       "      <th>4</th>\n",
       "      <td>3.8462</td>\n",
       "      <td>52.0</td>\n",
       "      <td>6.281853</td>\n",
       "      <td>1.081081</td>\n",
       "      <td>565.0</td>\n",
       "      <td>2.181467</td>\n",
       "      <td>37.85</td>\n",
       "      <td>-122.25</td>\n",
       "      <td>3.422</td>\n",
       "    </tr>\n",
       "  </tbody>\n",
       "</table>\n",
       "</div>"
      ],
      "text/plain": [
       "   MedInc  HouseAge  AveRooms  AveBedrms  Population  AveOccup  Latitude  \\\n",
       "0  8.3252      41.0  6.984127   1.023810       322.0  2.555556     37.88   \n",
       "1  8.3014      21.0  6.238137   0.971880      2401.0  2.109842     37.86   \n",
       "2  7.2574      52.0  8.288136   1.073446       496.0  2.802260     37.85   \n",
       "3  5.6431      52.0  5.817352   1.073059       558.0  2.547945     37.85   \n",
       "4  3.8462      52.0  6.281853   1.081081       565.0  2.181467     37.85   \n",
       "\n",
       "   Longitude  MedHouseVal  \n",
       "0    -122.23        4.526  \n",
       "1    -122.22        3.585  \n",
       "2    -122.24        3.521  \n",
       "3    -122.25        3.413  \n",
       "4    -122.25        3.422  "
      ]
     },
     "execution_count": 26,
     "metadata": {},
     "output_type": "execute_result"
    }
   ],
   "source": [
    "california_housing_data = fetch_california_housing()\n",
    "print(california_housing_data.keys())\n",
    "df = fetch_california_housing(as_frame= True)\n",
    "df = df.frame\n",
    "df.head()"
   ]
  },
  {
   "cell_type": "code",
   "execution_count": null,
   "id": "e258c84f-37c7-4893-8666-ea7576856f57",
   "metadata": {},
   "outputs": [],
   "source": []
  },
  {
   "cell_type": "markdown",
   "id": "b70e136c-0e6e-48b9-8080-391a1d04f0e0",
   "metadata": {},
   "source": [
    "## NumPy\n",
    "\n",
    "### Criação e Manipulação de Arrays Multidimensionais\n",
    "- **Dica**: Crie arrays com `np.array()` e altere suas formas usando `reshape()`.\n",
    "- **Exercício**: Converta uma coluna do DataFrame `california_housing` em um array NumPy e redimensione-o para uma matriz 2D.\n",
    "\n",
    "### Operações Vetorizadas e Broadcasting\n",
    "- **Dica**: Use operações diretamente em arrays NumPy para realizar cálculos rápidos e eficientes.\n",
    "- **Exercício**: Aplique uma operação matemática, como a normalização, a uma coluna de dados convertida em array NumPy.\n",
    "\n",
    "### Funções Matemáticas Básicas (Média, Desvio Padrão, Soma, etc.)\n",
    "- **Dica**: Utilize funções como `np.mean()`, `np.std()`, `np.sum()` para calcular estatísticas básicas.\n",
    "- **Exercício**: Calcule a média e o desvio padrão das colunas `median_house_value` e `median_income` do DataFrame `california_housing`.\n"
   ]
  },
  {
   "cell_type": "markdown",
   "id": "0630ab8d-c90d-4829-b34e-5d745ea9c058",
   "metadata": {},
   "source": [
    "## Controle de Fluxo em Python\n",
    "\n",
    "### Estruturas de Decisão (`if`, `else`, `elif`)\n",
    "- **Dica**: Use essas estruturas para executar código com base em condições.\n",
    "- **Exercício**: Crie uma condição para categorizar o valor de `median_house_value` em \"Alto\", \"Médio\" ou \"Baixo\".\n",
    "\n",
    "### Laços de Repetição (`for`, `while`)\n",
    "- **Dica**: Utilize laços para iterar sobre dados ou realizar operações repetitivas.\n",
    "- **Exercício**: Use um laço `for` para calcular a média de `median_house_value` para diferentes intervalos de `median_income`.\n",
    "\n",
    "### Funções e Lambda Functions\n",
    "- **Dica**: Defina funções com `def` e use funções lambda para operações rápidas e inline.\n",
    "- **Exercício**: Crie uma função que calcula a diferença entre `median_house_value` e `median_income` e aplique essa função a cada linha do DataFrame.\n"
   ]
  },
  {
   "cell_type": "markdown",
   "id": "4ea06de2-c9b5-431c-96bd-d032faa730d8",
   "metadata": {},
   "source": [
    "## Manipulação de Arquivos e Scripts\n",
    "\n",
    "### Criação e Execução de Scripts Python\n",
    "- **Dica**: Escreva scripts Python para realizar tarefas automatizadas e execute-os no terminal.\n",
    "- **Exercício**: Crie um script Python que leia o dataset `california_housing`, aplique algumas transformações e salve o resultado em um novo arquivo.\n",
    "\n",
    "### Leitura de Grandes Arquivos de Dados\n",
    "- **Dica**: Use técnicas de leitura eficiente, como leitura em pedaços com `chunksize`.\n",
    "- **Exercício**: Carregue o dataset em partes e processe cada parte individualmente para otimizar a memória.\n"
   ]
  },
  {
   "cell_type": "code",
   "execution_count": null,
   "id": "15addf53-ba5e-49ad-aba5-96e8971648f8",
   "metadata": {},
   "outputs": [],
   "source": []
  },
  {
   "cell_type": "code",
   "execution_count": null,
   "id": "a0edcbbd-65d2-4937-8096-77e6bae96a7b",
   "metadata": {},
   "outputs": [],
   "source": []
  },
  {
   "cell_type": "code",
   "execution_count": null,
   "id": "3e80b6cd-07a7-44d5-bb31-bf6ecf849f1d",
   "metadata": {},
   "outputs": [],
   "source": []
  },
  {
   "cell_type": "markdown",
   "id": "5e9fddfa-3a4c-4be8-9327-03efc660d3c0",
   "metadata": {
    "jp-MarkdownHeadingCollapsed": true
   },
   "source": [
    "# 2. **Análise de Dados**\n",
    "\n",
    " em bins ou categorias.\r\n"
   ]
  },
  {
   "cell_type": "markdown",
   "id": "438b655a-a4c9-468d-a456-daebaed01a9e",
   "metadata": {},
   "source": [
    "## Exploração de dados\n",
    "- **Análise inicial dos dados: dimensões, tipos de variáveis, valores nulos**\n",
    "  - Verificação das características principais dos dados.\n",
    "- **Distribuições e dispersão dos dados**\n",
    "  - Análise da distribuição e variabilidade dos dados.\n",
    "- **Análise de outliers (boxplots, IQR)**\n",
    "  - Identificação de valores atípicos e sua influência nos dados.\n",
    "\n",
    "## Visualização de dados com Matplotlib e Seaborn\n",
    "- **Criação de gráficos de linhas, dispersão, histogramas, heatmaps**\n",
    "  - Construção de diferentes tipos de gráficos para visualização.\n",
    "- **Customização de gráficos (títulos, rótulos, legendas)**\n",
    "  - Adição de elementos visuais para melhorar a interpretação.\n",
    "- **Gráficos multi-dimensionais (pairplots, catplots)**\n",
    "  - Visualização de relações entre múltiplas variáveis.\n",
    "\n",
    "## Transformações de dados\n",
    "- **Normalização e padronização (scaling)**\n",
    "  - Técnicas para ajustar a escala das variáveis.\n",
    "- **Aplicação de log-transform e outras técnicas para lidar com skewness**\n",
    "  - Transformações para melhorar a distribuição dos dados.\n",
    "- **Binning de variáveis contínuas em categorias**\n",
    "  - Agrupamento de variáveis contínuas em bins ou categorias."
   ]
  },
  {
   "cell_type": "markdown",
   "id": "3079986f-e65c-4215-aeef-14ab141abeb8",
   "metadata": {
    "jp-MarkdownHeadingCollapsed": true
   },
   "source": [
    "# 3. **Estatística e Probabilidade**\n",
    "\n",
    "is da inferência bayesiana.\r\n"
   ]
  },
  {
   "cell_type": "markdown",
   "id": "f0d8e8f3-3a2b-477c-9a9d-befb22c7bb34",
   "metadata": {},
   "source": [
    "\n",
    "## Estatística Descritiva\n",
    "- **Medidas de tendência central: média, mediana, moda**\n",
    "  - Resumos das características centrais dos dados.\n",
    "- **Medidas de dispersão: variância, desvio padrão, intervalo interquartil (IQR)**\n",
    "  - Análise da variabilidade dos dados.\n",
    "- **Análise de assimetria (skewness) e curtose (kurtosis)**\n",
    "  - Medidas de forma da distribuição dos dados.\n",
    "\n",
    "## Estatística Inferencial\n",
    "- **Amostragem: diferença entre população e amostra**\n",
    "  - Conceitos de amostragem e suas implicações.\n",
    "- **Testes de hipóteses: Teste t, Teste z, Teste de qui-quadrado**\n",
    "  - Métodos para testar hipóteses sobre os dados.\n",
    "- **P-valores e significância estatística**\n",
    "  - Interpretação dos p-valores para determinar significância.\n",
    "- **Intervalos de confiança**\n",
    "  - Cálculo e interpretação de intervalos para estimativas de parâmetros.\n",
    "\n",
    "## Distribuições de Probabilidade\n",
    "- **Distribuições discretas: Binomial, Poisson**\n",
    "  - Propriedades e aplicações das distribuições discretas.\n",
    "- **Distribuições contínuas: Normal, Exponencial, Uniforme**\n",
    "  - Características e usos das distribuições contínuas.\n",
    "- **Distribuições conjuntas e probabilidade condicional**\n",
    "  - Análise de distribuições conjuntas e probabilidade condicional.\n",
    "- **Teorema de Bayes e inferência bayesiana**\n",
    "  - Conceitos fundamentais da inferência bayesiana."
   ]
  },
  {
   "cell_type": "markdown",
   "id": "1c4f3f23-69cc-4101-b7c2-bcf289cd8b30",
   "metadata": {
    "jp-MarkdownHeadingCollapsed": true
   },
   "source": [
    "# 4. **Machine Learning**ização: L1, L2, Dropout).\r\n"
   ]
  },
  {
   "cell_type": "markdown",
   "id": "097cfc2f-b2a5-40a4-b94d-e21a791c4366",
   "metadata": {},
   "source": [
    "## Modelos Supervisionados\n",
    "- **Regressão Linear**\n",
    "  - Conceito de regressão linear simples e múltipla.\n",
    "  - Interpretação dos coeficientes e diagnóstico de multicolinearidade.\n",
    "- **Regressão Logística**\n",
    "  - Aplicações em classificação binária.\n",
    "  - Curva ROC e AUC (Área sob a curva) e conceito de odds ratio.\n",
    "- **Árvores de Decisão**\n",
    "  - Critérios de divisão (gini, entropia), podas de árvores e regularização.\n",
    "  - Prevenção de overfitting em árvores de decisão.\n",
    "\n",
    "## Modelos Não Supervisionados\n",
    "- **k-Means Clustering**\n",
    "  - Escolha do número de clusters (método do cotovelo) e métricas para avaliar clustering (silhueta, inércia).\n",
    "- **PCA (Análise de Componentes Principais)**\n",
    "  - Redução de dimensionalidade e interpretação dos componentes principais.\n",
    "\n",
    "## Técnicas de Avaliação de Modelos\n",
    "- **Métricas de Regressão**\n",
    "  - RMSE, MAE, R² para avaliação de modelos de regressão.\n",
    "- **Métricas de Classificação**\n",
    "  - Accuracy, Precision, Recall, F1-Score e matriz de confusão.\n",
    "  - Cross-validation e k-fold validation para validação de modelos.\n",
    "- **Overfitting e Underfitting**\n",
    "  - Técnicas para evitar overfitting (regularização: L1, L2, Dropout).\n"
   ]
  },
  {
   "cell_type": "markdown",
   "id": "522dc8a6-d7b7-446c-a419-d20dbc1d977e",
   "metadata": {
    "jp-MarkdownHeadingCollapsed": true
   },
   "source": [
    "# 5. **Data Wrangling e Feature Engineering**\n"
   ]
  },
  {
   "cell_type": "markdown",
   "id": "14448393-c81d-48b5-8ecd-f136bb8d285b",
   "metadata": {},
   "source": [
    "\n",
    "## Data Wrangling\n",
    "- **Tratamento de dados ausentes: remoção, imputação de valores**\n",
    "  - Técnicas para lidar com dados ausentes.\n",
    "- **Conversão de tipos de dados (strings para datetime, etc.)**\n",
    "  - Conversão entre diferentes tipos de dados.\n",
    "- **Tratamento de dados inconsistentes e duplicados**\n",
    "  - Identificação e correção de inconsistências e duplicatas.\n",
    "\n",
    "## Feature Engineering\n",
    "- **Criação de novas features a partir de variáveis existentes**\n",
    "  - Ex: densidade, taxa de crescimento.\n",
    "- **Codificação de variáveis categóricas (one-hot encoding, label encoding)**\n",
    "  - Métodos para transformar variáveis categóricas em numéricas.\n",
    "- **Transformações logarítmicas e interações entre variáveis**\n",
    "  - Criação de novas features para melhorar o desempenho do modelo.\n",
    "\n",
    "## Normalização e Padronização\n",
    "- **Min-Max scaling e StandardScaler**\n",
    "  - Técnicas para normalização e padronização de dados.\n",
    "- **Z-score normalization**\n",
    "  - Transformação dos dados para uma distribuição padrão normal."
   ]
  },
  {
   "cell_type": "markdown",
   "id": "fa43f1bf-e9b4-419a-a51f-e6211487cb6c",
   "metadata": {
    "jp-MarkdownHeadingCollapsed": true
   },
   "source": [
    "# 6. **Banco de Dados e SQL** evitar redundância.\r\n"
   ]
  },
  {
   "cell_type": "markdown",
   "id": "c8b58c1b-b59b-4aad-85ae-f9a633f3ec5a",
   "metadata": {},
   "source": [
    "## Consultas SQL Básicas\n",
    "- **SELECT, WHERE, JOIN, GROUP BY, ORDER BY, LIMIT**\n",
    "  - Consultas para selecionar, filtrar e ordenar dados em bancos de dados.\n",
    "\n",
    "## Consultas SQL Avançadas\n",
    "- **Subqueries, Common Table Expressions (CTEs)**\n",
    "  - Consultas aninhadas e uso de CTEs para consultas complexas.\n",
    "- **Operações de agregação (SUM, COUNT, AVG, etc.)**\n",
    "  - Funções para agregação e resumo de dados.\n",
    "\n",
    "## Manipulação de Dados\n",
    "- **Inserção, atualização e exclusão de registros (INSERT, UPDATE, DELETE)**\n",
    "  - Manipulação dos dados em uma tabela.\n",
    "\n",
    "## Indexação e Performance\n",
    "- **Como e quando usar índices para otimizar consultas**\n",
    "  - Criação e uso de índices para melhorar o desempenho.\n",
    "- **Entendimento de esquemas de banco de dados relacionais (normalização)**\n",
    "  - Estruturação de dados e normalização para evitar redundância."
   ]
  },
  {
   "cell_type": "code",
   "execution_count": null,
   "id": "2f961f63-80ac-424a-a19a-78242c69f67a",
   "metadata": {},
   "outputs": [],
   "source": []
  }
 ],
 "metadata": {
  "kernelspec": {
   "display_name": "Python 3 (ipykernel)",
   "language": "python",
   "name": "python3"
  },
  "language_info": {
   "codemirror_mode": {
    "name": "ipython",
    "version": 3
   },
   "file_extension": ".py",
   "mimetype": "text/x-python",
   "name": "python",
   "nbconvert_exporter": "python",
   "pygments_lexer": "ipython3",
   "version": "3.11.7"
  }
 },
 "nbformat": 4,
 "nbformat_minor": 5
}
