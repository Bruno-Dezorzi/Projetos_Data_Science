








import pandas as pd
import numpy as np
from sklearn.datasets import fetch_california_housing


california_housing_data = fetch_california_housing()
print(california_housing_data.keys())
df = fetch_california_housing(as_frame= True)
df = df.frame
df.head()






















































