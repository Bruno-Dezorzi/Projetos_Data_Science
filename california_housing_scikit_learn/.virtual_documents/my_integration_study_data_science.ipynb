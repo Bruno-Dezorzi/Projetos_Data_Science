


import pandas as pd
import numpy as np
import statistics
from sklearn.datasets import fetch_california_housing


california_housing_data = fetch_california_housing()
print(california_housing_data.keys())
df = fetch_california_housing(as_frame= True)
df = df.frame
df.head()


def analise_features_cs_min_max(feature):
    feature_normal = feature

    feature_normal_media = feature_normal.median()
    feature_normal_std = feature_normal.std()

    feature_max = feature_normal.max()
    feature_min = feature_normal.min()

    indexes_max = feature_normal[feature_normal == feature_max].index
    indexes_min = feature_normal[feature_normal == feature_min].index

    # Remover max e min corretamente
    feature_sem_mm = feature_normal.drop(indexes_max).drop(indexes_min)

    feature_sem_mm_media = feature_sem_mm.median()
    feature_sem_mm_std = feature_sem_mm.std()

    print(f"A feature {feature.name} possui:\n"
          f"Normal -> média: {feature_normal_media:.2f} desvio padrão: {feature_normal_std:.2f}, Coeficiente de Variação: {(feature_normal_std/feature_normal_media*100):.2f}% e com {feature_normal.count()} linhas\n"
          f"Sem max e min -> média: {feature_sem_mm_media:.2f} desvio padrão: {feature_sem_mm_std:.2f} Coeficiente de Variação: {(feature_sem_mm_std/feature_sem_mm_media*100):.2f}%  e com {feature_sem_mm.count()} linhas\n")



def analise_geral_cs_max_min(dataframe):
    qtde_features = dataframe.shape[1]

    for i in range(qtde_features):
        feature_name = dataframe.columns[i]  # Nome da feature
        print(f"Analisando a feature: {feature_name}")
        analise_features_cs_min_max(dataframe.iloc[:, i])


analise_geral_cs_max_min(df)
