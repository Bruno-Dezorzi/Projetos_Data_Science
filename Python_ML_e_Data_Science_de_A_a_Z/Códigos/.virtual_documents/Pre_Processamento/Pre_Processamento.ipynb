


import pandas as pd
import numpy as np
import matplotlib.pyplot as plt
import matplotlib.image as mpimg
get_ipython().run_line_magic("matplotlib", " inline")
import seaborn as sns
import plotly.express as px





from IPython.display import Image, display
display(Image(filename="C:\GITHUB\Meu-aprendizado\Python_ML_e_Data_Science_de_A_a_Z\Códigos\Pre_Processamento\Kaggle_Dataset.png" ))


# Importando dataset
base_credit = pd.read_csv("C:\GITHUB\Meu-aprendizado\Python_ML_e_Data_Science_de_A_a_Z\Códigos\Pre_Processamento\credit_data.csv")
base_credit.head()


base_credit.describe()





plt.figure(figsize=(15, 8))

# Primeiro histograma: Income
plt.subplot(2, 2, 1)
plt.hist(base_credit['income'])
plt.title('Income')

# Segundo histograma: Age
plt.subplot(2, 2, 2)
plt.hist(base_credit['age'])
plt.title('Age')

# Terceiro histograma: Loan
plt.subplot(2, 2, 3)
plt.hist(base_credit['loan'])
plt.title('Loan')

# Quarto histograma: Default
plt.subplot(2, 2, 4)
plt.hist(base_credit['default'])
plt.title('Default')

plt.tight_layout()

plt.show()


grafico = px.scatter_matrix(base_credit, dimensions=['age','income','loan'], color='default')
grafico.show()





# Procurando as idades negativas
idades_negativas = base_credit.loc[base_credit['age'] <= 0]
idades_negativas


#  Tratando as idades negativas apagando a coluna
base_credit2 = base_credit.drop('age', axis = 1)
base_credit2


#  Tratando as idades negativas apagando os registros
base_credit3 = base_credit.drop(base_credit[base_credit['age'] < 0 ].index)
base_credit3


# Tratando as idades negativas usando a média das idades
media_idades = base_credit.loc[base_credit['age'] > 0]['age'].mean()
media_idades


base_credit.loc[base_credit['age'] < 0, 'age' ] = media_idades


base_credit.iloc[[15,21,26]]


grafico = px.scatter_matrix(base_credit, dimensions=['age','income','loan'], color='default')
grafico.show()





# Vendo os valores nulos
base_credit.isnull().sum()


# Tratando os valores nulos com a média
#base_credit.loc[pd.isnull(base_credit['age']),'age'] = media_idades


# Outra forma
base_credit['age'].fillna(media_idades, inplace= True);


base_credit.isnull().sum()


base_credit.iloc[[28,30,31]]





# Previsores
X_credit = base_credit.iloc[:,1:4].to_numpy()
X_credit


y_credit = base_credit.iloc[:,4].to_numpy()
y_credit








display(Image('Escalonamento_Valores.png'))


from sklearn.preprocessing import StandardScaler
scaler_credit = StandardScaler()
X_credit = scaler_credit.fit_transform(X_credit)
X_credit


teste = pd.DataFrame(X_credit)
teste


teste.describe()





# Lendo, mostrando e analisando
base_census = pd.read_csv('census.csv')
display(base_census.head())
print(base_census.shape)


# Vendo medidas
base_census.describe()


# Vendo valores nulos
base_census.isnull().sum()





plt.figure(figure= (8,12))
plt.subplot(1,3,1)
sns.boxenplot(data= base_census['capital-gain'])
plt.subplot(1,3,2)
sns.boxenplot(data= base_census['capital-loos'])
plt.subplot(1,3,3)
sns.boxenplot(data= base_census['hour-per-week'])
plt.tight_layout()
plt.show()


# Analisando a quantidade de valores targets
np.unique(base_census['income'], return_counts= True) 


sns.countplot(data= base_census, x = 'income')



plt.figure(figsize=(20,12))

plt.subplot(2, 3, 1)
plt.hist(base_census['age'], edgecolor='black')
plt.title('Age')

plt.subplot(2, 3, 2)
plt.hist(base_census['final-weight'], edgecolor='black')
plt.title('Final Weight')

plt.subplot(2, 3, 3)
plt.hist(base_census['education-num'], edgecolor='black')
plt.title('Education Num')

plt.subplot(2, 3, 4)
plt.hist(base_census['capital-gain'], edgecolor='black')
plt.title('Capital Gain')

plt.subplot(2, 3, 5)
plt.hist(base_census['capital-loos'], edgecolor='black')
plt.title('Capital Loss')

plt.subplot(2, 3, 6)
plt.hist(base_census['hour-per-week'], edgecolor='black')
plt.title('Hours per Week')

plt.tight_layout()
plt.show()



grafico = px.treemap(data_frame= base_census, path=['occupation','relationship','age'])
grafico.show()


grafico = px.parallel_categories(data_frame= base_census, dimensions=['occupation','relationship'])
grafico.show()


grafico = px.parallel_categories(data_frame= base_census, dimensions=['workclass','occupation','income'])
grafico.show()


grafico = px.parallel_categories(data_frame= base_census, dimensions=['education','income'])
grafico.show()





# Previsores
X_census = base_census.iloc[:,0:14].to_numpy()
X_census


# Targets
y_census = base_census.iloc[:,14].to_numpy()
y_census





display(Image('Onehotencoder_labelencoder.png'))





from sklearn.preprocessing import LabelEncoder
label_encoder_teste = LabelEncoder()
teste = label_encoder_teste.fit_transform(X_census[:,1])


teste


label_encoder_workclass = LabelEncoder()
label_encoder_education = LabelEncoder()
label_encoder_marital = LabelEncoder()
label_encoder_occupation = LabelEncoder()
label_encoder_relationshiop = LabelEncoder()
label_encoder_race = LabelEncoder()
label_encoder_sex = LabelEncoder()
label_encoder_country = LabelEncoder()


X_census[:,1] = label_encoder_workclass.fit_transform(X_census[:,1])
X_census[:,3] = label_encoder_education.fit_transform(X_census[:,3])
X_census[:,5] = label_encoder_marital.fit_transform(X_census[:,5])
X_census[:,6] = label_encoder_occupation.fit_transform(X_census[:,6])
X_census[:,7] = label_encoder_relationshiop.fit_transform(X_census[:,7])
X_census[:,8] = label_encoder_race.fit_transform(X_census[:,8])
X_census[:,9] = label_encoder_sex.fit_transform(X_census[:,9])
X_census[:,13] = label_encoder_country.fit_transform(X_census[:,13])


pd.DataFrame(X_census)





from sklearn.preprocessing import OneHotEncoder
from sklearn.compose import ColumnTransformer


onehotencoder_census = ColumnTransformer(transformers=[('OneHot', OneHotEncoder(),[1,3,5,6,7,8,9,13])], 
                                         remainder = 'passthrough')
X_census = onehotencoder_census.fit_transform(X_census).toarray()


pd.DataFrame(X_census)





from sklearn.preprocessing import StandardScaler
scaler_census = StandardScaler()
X_census = scaler_census.fit_transform(X_census)


X_census[0]





from sklearn.model_selection import train_test_split





X_credit_treinamento, X_credit_teste, y_credit_treinamento,y_credit_teste = train_test_split(X_credit,y_credit, test_size=0.25, random_state= 0)





X_census_treinamento, X_census_teste, y_census_treinamento,y_census_teste = train_test_split(X_census,y_census, test_size=0.15, random_state= 0)





import pickle


with open('credit.pkl', mode='wb') as f:
    pickle.dump([X_credit_treinamento, X_credit_teste, y_credit_treinamento,y_credit_teste],f)


with open("census.pkl", mode= 'wb') as f:
    pickle.dump([X_census_treinamento, X_census_teste, y_census_treinamento,y_census_teste], f)
