# Importando as bibliotecas
import pandas as pd
import numpy as np
from sklearn.naive_bayes import GaussianNB
import pickle


with open('credit.pkl', 'rb') as f:
    X_treino, X_teste, y_treino, y_teste = pickle.load(f)


y_treino.shape


naive_bayes = GaussianNB()
naive_bayes.fit(X_treino,y_treino)


previsoes = naive_bayes.predict(X_teste)


from sklearn.metrics import accuracy_score


accuracy_score(y_teste, previsoes)



