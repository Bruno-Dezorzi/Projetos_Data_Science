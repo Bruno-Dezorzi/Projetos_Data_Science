


import cv2


# Carregar a imagem
imagem = cv2.imread("Imagens/workplace-1245776_1920.jpg")

# Verifique se a imagem foi carregada corretamente
if imagem is None:
    print("Erro ao carregar a imagem.")
else:
    # Exibir a imagem
    cv2.imshow("Imagem", imagem)
    
    # Espera até que uma tecla seja pressionada
    cv2.waitKey(0)
    
    # Fecha todas as janelas abertas
    cv2.destroyAllWindows()


detector_faces = cv2.CascadeClassifier("Cascades OpenCV\haarcascade_frontalface_default.xml")


imagem_cinza = cv2.cvtColor(imagem, cv2.COLOR_BGR2GRAY)


largura = 800  # Defina a largura desejada
altura = int(largura * (imagem_cinza.shape[0] / imagem_cinza.shape[1]))  # Mantém a proporção
imagem_redimensionada = cv2.resize(imagem_cinza, (largura, altura))

    # Exibir a imagem redimensionada
cv2.imshow("Imagem Cinza", imagem_redimensionada)
cv2.waitKey(0)
cv2.destroyAllWindows()




