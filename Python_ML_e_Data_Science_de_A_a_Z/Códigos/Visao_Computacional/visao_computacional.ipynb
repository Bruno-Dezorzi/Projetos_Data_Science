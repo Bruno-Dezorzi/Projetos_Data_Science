{
 "cells": [
  {
   "cell_type": "markdown",
   "id": "e623d5ea-84f4-4a29-82ff-a7c46a73f6e3",
   "metadata": {},
   "source": [
    "## Detecção de Faces"
   ]
  },
  {
   "cell_type": "code",
   "execution_count": 1,
   "id": "df4f33e9-7ded-48ff-809e-031279b1120a",
   "metadata": {},
   "outputs": [],
   "source": [
    "import cv2"
   ]
  },
  {
   "cell_type": "code",
   "execution_count": 7,
   "id": "ff50e47e-9ec7-4d43-9880-1a7f50df71b7",
   "metadata": {},
   "outputs": [],
   "source": [
    "# Carregar a imagem\n",
    "imagem = cv2.imread(\"Imagens/workplace-1245776_1920.jpg\")\n",
    "\n",
    "# Verifique se a imagem foi carregada corretamente\n",
    "if imagem is None:\n",
    "    print(\"Erro ao carregar a imagem.\")\n",
    "else:\n",
    "    # Exibir a imagem\n",
    "    cv2.imshow(\"Imagem\", imagem)\n",
    "    \n",
    "    # Espera até que uma tecla seja pressionada\n",
    "    cv2.waitKey(0)\n",
    "    \n",
    "    # Fecha todas as janelas abertas\n",
    "    cv2.destroyAllWindows()"
   ]
  },
  {
   "cell_type": "code",
   "execution_count": 8,
   "id": "f8add9bd-4593-43e0-9925-97632d135292",
   "metadata": {},
   "outputs": [],
   "source": [
    "detector_faces = cv2.CascadeClassifier(\"Cascades OpenCV\\haarcascade_frontalface_default.xml\")"
   ]
  },
  {
   "cell_type": "code",
   "execution_count": 9,
   "id": "d0712b5c-ce60-4e40-9158-01e278303842",
   "metadata": {},
   "outputs": [],
   "source": [
    "imagem_cinza = cv2.cvtColor(imagem, cv2.COLOR_BGR2GRAY)"
   ]
  },
  {
   "cell_type": "code",
   "execution_count": 14,
   "id": "37df784a-68cc-4a60-a991-aee1f6025c45",
   "metadata": {},
   "outputs": [],
   "source": [
    "largura = 800  # Defina a largura desejada\n",
    "altura = int(largura * (imagem_cinza.shape[0] / imagem_cinza.shape[1]))  # Mantém a proporção\n",
    "imagem_redimensionada = cv2.resize(imagem_cinza, (largura, altura))\n",
    "\n",
    "    # Exibir a imagem redimensionada\n",
    "cv2.imshow(\"Imagem Cinza\", imagem_redimensionada)\n",
    "cv2.waitKey(0)\n",
    "cv2.destroyAllWindows()\n"
   ]
  },
  {
   "cell_type": "code",
   "execution_count": null,
   "id": "dec8439e-5ab9-4fd9-be6a-ba487d546386",
   "metadata": {},
   "outputs": [],
   "source": []
  }
 ],
 "metadata": {
  "kernelspec": {
   "display_name": "Python 3 (ipykernel)",
   "language": "python",
   "name": "python3"
  },
  "language_info": {
   "codemirror_mode": {
    "name": "ipython",
    "version": 3
   },
   "file_extension": ".py",
   "mimetype": "text/x-python",
   "name": "python",
   "nbconvert_exporter": "python",
   "pygments_lexer": "ipython3",
   "version": "3.11.7"
  }
 },
 "nbformat": 4,
 "nbformat_minor": 5
}
