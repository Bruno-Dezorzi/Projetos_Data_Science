# Importando as bibliotecas
import pandas as pd
import numpy as np
from sklearn.naive_bayes import GaussianNB
import pickle


with open('credit.pkl', 'rb') as f:
    X_treino, y_treino, X_teste, y_teste = pickle.load(f)


X_treino.shape


naive_bayes = GaussianNB()
naive_bayes.fit(X_treino,y_treino)



