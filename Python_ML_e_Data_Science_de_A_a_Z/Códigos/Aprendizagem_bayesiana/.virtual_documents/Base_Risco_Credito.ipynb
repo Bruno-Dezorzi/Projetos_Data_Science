# Importando as bibliotecas
import pandas as pd
import numpy as np
from sklearn.naive_bayes import GaussianNB


# Importando a base de dados
base_risco_credito = pd.read_csv(filepath_or_buffer='risco_credito.csv')
base_risco_credito


# Modelando o dataset
# Dividinfo entre features e targets
X = base_risco_credito.iloc[:,0:4].to_numpy()
y = base_risco_credito.iloc[:,4].to_numpy()


# Usando o LabelEncoder
from sklearn.preprocessing import LabelEncoder
label_encoder_hist = LabelEncoder()
label_encoder_divida = LabelEncoder()
label_encoder_garantia = LabelEncoder()
label_encoder_renda = LabelEncoder()


X[:, 0] = X[:, 0].astype(str)
X[:, 1] = X[:, 1].astype(str)
X[:, 2] = X[:, 2].astype(str)
X[:, 3] = X[:, 3].astype(str)


X[:,0] = label_encoder_hist.fit_transform(X[:,0])
X[:,1] = label_encoder_divida.fit_transform(X[:,1])
X[:,2] = label_encoder_garantia.fit_transform(X[:,2])
X[:,3] = label_encoder_renda.fit_transform(X[:,3])


X


import pickle
with open('risco_credito.pkl', 'wb') as f:
    pickle.dump([X,y],f)


naive_risco_credito = GaussianNB()
naive_risco_credito.fit(X,y)


previsao = naive_risco_credito.predict([[1,1,2,3],[0,1,1,0]])
previsao


print(naive_risco_credito.classes_)
print(naive_risco_credito.class_count_)
print(naive_risco_credito.class_prior_)



