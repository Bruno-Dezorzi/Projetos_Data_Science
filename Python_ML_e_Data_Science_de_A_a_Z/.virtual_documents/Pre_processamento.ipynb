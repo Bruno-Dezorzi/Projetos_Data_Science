


import pandas as pd
import numpy as np
import matplotlib.pyplot as plt
import seaborn as sns
import plotly.express as px


base_credit = pd.read_csv("bases/credit_data.csv")
base_credit


base_credit.describe()


base_credit[base_credit['income'] >= 69995.685578]


base_credit.head()





np.unique(base_credit['default'], return_counts = True)


sns.countplot(data= base_credit,x = 'default');


plt.hist(data=base_credit, x =  'age');



# Detectando Outliers
sns.boxplot(data=base_credit, y ='age' );


plt.hist(data = base_credit,
        x = 'income');


plt.hist(data= base_credit,
         x = 'loan');


grafico = px.scatter_matrix( data_frame= base_credit, dimensions = ['age','income','loan'], color= 'default')
grafico.show()





base_credit.loc[base_credit['age'] < 0] ## base_credit[base_credit['age'] < 0]


# Apagar a coluna
base_credit2 = base_credit.drop('age', axis= 1)
base_credit2


# Apagar registros com valores inconscistentes
base_credit3 = base_credit.drop(base_credit.loc[base_credit['age'] < 0].index)
base_credit3


# Preencher os valores inconscistentes manualmente


# Preencher os valores com a media das idades
idade_media  = base_credit[base_credit['age'] > 0]['age'].mean()
idade_media


base_credit.loc[base_credit['age'] < 0].index


base_credit.loc[base_credit['age'] < 0, 'age'] = idade_media


base_credit.loc[[15,21,26]]





base_credit.isnull().sum()


base_credit[pd.isnull(base_credit['age'])].index


base_credit['age'].fillna(idade_media, inplace = True);


base_credit.loc[[28, 30, 31]]


base_credit.loc[base_credit['clientid'].isin([29,32,31])]





x_credit = base_credit.iloc[:,1:4].values
x_credit


y_credit = base_credit.iloc[:,4].values
y_credit





x_credit[:,0].min() , x_credit[:,1].min() , x_credit[:,2].min() 


x_credit[:,0].max() , x_credit[:,1].max() , x_credit[:,2].max() 





from sklearn.preprocessing import StandardScaler
scaler_credit = StandardScaler()
x_credit_scaler_credit = scaler_credit.fit_transform(x_credit)


x_credit_scaler_credit[:,0].min() , x_credit_scaler_credit[:,1].min() , x_credit_scaler_credit[:,2].min() 


x_credit_scaler_credit[:,0].max() , x_credit_scaler_credit[:,1].max() , x_credit_scaler_credit[:,2].max() 


px.scatter(x_credit_scaler_credit)





from sklearn.preprocessing import Normalizer
normalizer_credit = Normalizer();
x_credit_normalize = normalizer_credit.fit_transform(x_credit)


x_credit_normalize[:,0].min() , x_credit_normalize[:,1].min() , x_credit_normalize[:,2].min() 


x_credit_normalize[:,0].max() , x_credit_normalize[:,1].max() , x_credit_normalize[:,2].max() 





base_census = pd.read_csv(filepath_or_buffer= 'bases/census.csv')
base_census


base_census.describe()


base_census.isnull().sum()





np.unique(base_census['income'], 
          return_counts= True)


sns.countplot(data=base_census, y='income'
              , orient='v')

plt.xlabel('Contagem')  
plt.ylabel('Income')    
plt.title('Distribuição de Income por Hue')  

plt.show()


plt.hist(x = base_census['age'])
plt.xlabel("Idades")
plt.ylabel("Contagem")

plt.title('Contagem de Idades')

plt.show();


plt.hist(base_census['capital-gain']);


plt.hist(base_census['education-num']);


plt.hist(base_census['hour-per-week']);


grafico = px.treemap(data_frame= base_census, path=['workclass','age'])
grafico.show();


grafico = px.treemap(data_frame= base_census, path=['occupation', 'relationship','age'])
grafico.show();


grafico = px.parallel_categories(data_frame= base_census, dimensions=['occupation','relationship'])
grafico.show()


grafico = px.parallel_categories(data_frame= base_census, dimensions=['occupation','relationship','income'])
grafico.show()


grafico = px.parallel_categories(data_frame= base_census, dimensions=['education','income'])
grafico.show()



