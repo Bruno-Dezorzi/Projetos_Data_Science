


import pandas as pd
import numpy as np
import matplotlib.pyplot as plt
import matplotlib.image as mpimg
get_ipython().run_line_magic("matplotlib", " inline")
import seaborn as sns
import plotly.express as px





from IPython.display import Image, display
display(Image(filename="C:\GITHUB\Meu-aprendizado\Python_ML_e_Data_Science_de_A_a_Z\Códigos\My-first-Project\Pre_Processamento\Kaggle_Dataset.png" ))


# Importando dataset
base_credit = pd.read_csv("C:\GITHUB\Meu-aprendizado\Python_ML_e_Data_Science_de_A_a_Z\Códigos\My-first-Project\Pre_Processamento\credit_data.csv")
base_credit.head()


base_credit.describe()





plt.figure(figsize=(15, 8))

# Primeiro histograma: Income
plt.subplot(2, 2, 1)
plt.hist(base_credit['income'])
plt.title('Income')

# Segundo histograma: Age
plt.subplot(2, 2, 2)
plt.hist(base_credit['age'])
plt.title('Age')

# Terceiro histograma: Loan
plt.subplot(2, 2, 3)
plt.hist(base_credit['loan'])
plt.title('Loan')

# Quarto histograma: Default
plt.subplot(2, 2, 4)
plt.hist(base_credit['default'])
plt.title('Default')

plt.tight_layout()

plt.show()


grafico = px.scatter_matrix(base_credit, dimensions=['age','income','loan'], color='default')
grafico.show()





# Procurando as idades negativas
idades_negativas = base_credit.loc[base_credit['age'] <= 0]
idades_negativas


#  Tratando as idades negativas apagando a coluna
base_credit2 = base_credit.drop('age', axis = 1)
base_credit2


#  Tratando as idades negativas apagando os registros
base_credit3 = base_credit.drop(base_credit[base_credit['age'] < 0 ].index)
base_credit3


# Tratando as idades negativas usando a média das idades
media_idades = base_credit.loc[base_credit['age'] > 0]['age'].mean()
media_idades


base_credit.loc[base_credit['age'] < 0, 'age' ] = media_idades


base_credit.iloc[[15,21,26]]


grafico = px.scatter_matrix(base_credit, dimensions=['age','income','loan'], color='default')
grafico.show()





# Vendo os valores nulos
base_credit.isnull().sum()


# Tratando os valores nulos com a média
#base_credit.loc[pd.isnull(base_credit['age']),'age'] = media_idades


# Outra forma
base_credit['age'].fillna(media_idades, inplace= True);


base_credit.isnull().sum()


base_credit.iloc[[28,30,31]]





# Previsores
X_credit = base_credit.iloc[:,1:4].values
X_credit


y_credit = base_credit.iloc[:,4].values
y_credit








display(Image('Escalonamento_Valores.png'))


from sklearn.preprocessing import StandardScaler
scaler_credit = StandardScaler()
X_credit = scaler_credit.fit_transform(X_credit)
X_credit


teste = pd.DataFrame(X_credit)
teste


teste.describe()





# Lendo, mostrando e analisando
base_census = pd.read_csv('census.csv')
display(base_census.head())
print(base_census.shape)


# Vendo medidas
base_census.describe()


# Vendo valores nulos
base_census.isnull().sum()





plt.figure(figure= (8,12))
plt.subplot(1,3,1)
sns.boxenplot(data= base_census['capital-gain'])
plt.subplot(1,3,2)
sns.boxenplot(data= base_census['capital-loos'])
plt.subplot(1,3,3)
sns.boxenplot(data= base_census['hour-per-week'])
plt.tight_layout()
plt.show()



