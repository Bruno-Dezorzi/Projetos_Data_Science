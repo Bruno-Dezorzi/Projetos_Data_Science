{
 "cells": [
  {
   "cell_type": "markdown",
   "id": "820bb767",
   "metadata": {},
   "source": [
    "# Manipulação de Strings\n",
    "upper()  serve para transformar o texto em maiusculo\n",
    "lower()  serve para transformar o texto em minusculo\n",
    "capitalize()   serve para transformar a primeira letra do texto em maiusculo\n",
    "Assim como em uma lista, pode-se buscar a letra dentro de uma palavra usando [:]\n",
    "replace() serve para substituir um texto por outro\n",
    "find() ao passar uma letra, ele retorna a posicao da letra\n",
    "len() serve para ver o comprimento da string com espaços\n",
    "strip() remove os espaços antes e depois\n",
    "\n",
    "print(f'Dividindo {n1} por {n2} o resultado é {n1+n2}') f formata"
   ]
  },
  {
   "cell_type": "code",
   "execution_count": 4,
   "id": "cefdd375",
   "metadata": {},
   "outputs": [
    {
     "name": "stdout",
     "output_type": "stream",
     "text": [
      "Digite o primeiro número 8\n",
      "Digite o segundo número 9\n",
      "17\n",
      "-1\n",
      "72\n",
      "0.8888888888888888\n",
      "134217728\n"
     ]
    }
   ],
   "source": [
    "n1 = int(input(\"Digite o primeiro número \"))\n",
    "n2 = int(input(\"Digite o segundo número \"))\n",
    "\n",
    "print(n1+n2)\n",
    "print(n1-n2)\n",
    "print(n1*n2)\n",
    "print(n1/n2)\n",
    "print(n1**n2)"
   ]
  },
  {
   "cell_type": "code",
   "execution_count": 11,
   "id": "c1d34abe",
   "metadata": {},
   "outputs": [
    {
     "name": "stdout",
     "output_type": "stream",
     "text": [
      "Digite o tempo 100\n",
      "Digite a velocidade 100\n",
      "0.08333333333333333\n"
     ]
    }
   ],
   "source": [
    "def litros(tempo,velocidade):\n",
    "    tempo = float(tempo)\n",
    "    velocidade = float(velocidade)\n",
    "    rendimento = float(12)\n",
    "        # litros_usado = tempo/velocidade/rendimento\n",
    "    distancia  = tempo/velocidade\n",
    "    litros_usado = distancia/rendimento\n",
    "    return litros_usado \n",
    "\n",
    "print(litros(input(\"Digite o tempo \"),input(\"Digite a velocidade \")))\n"
   ]
  }
 ],
 "metadata": {
  "kernelspec": {
   "display_name": "Python 3 (ipykernel)",
   "language": "python",
   "name": "python3"
  },
  "language_info": {
   "codemirror_mode": {
    "name": "ipython",
    "version": 3
   },
   "file_extension": ".py",
   "mimetype": "text/x-python",
   "name": "python",
   "nbconvert_exporter": "python",
   "pygments_lexer": "ipython3",
   "version": "3.11.5"
  }
 },
 "nbformat": 4,
 "nbformat_minor": 5
}
