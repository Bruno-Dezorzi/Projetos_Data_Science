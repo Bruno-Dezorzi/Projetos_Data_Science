{
 "cells": [
  {
   "cell_type": "markdown",
   "id": "bcaf7d63-16f6-43bd-8283-4131b0d670d0",
   "metadata": {},
   "source": [
    "# Importando Bibliotecas e lendo o Dataset"
   ]
  },
  {
   "cell_type": "code",
   "execution_count": 1,
   "id": "e73c7e4a-9485-4f56-862b-0962a3d47daf",
   "metadata": {},
   "outputs": [],
   "source": [
    "import pandas as pd\n",
    "import numpy as pd\n",
    "import matplotlib.pyplot as pyplot\n",
    "%matplotlib inline\n",
    "import seaborn as sns\n",
    "import plotly.express as px"
   ]
  },
  {
   "cell_type": "markdown",
   "id": "5d861983-a0d5-4a1f-8ff6-dce52230551d",
   "metadata": {},
   "source": [
    "Fonte : https://www.kaggle.com/datasets/laotse/credit-risk-dataset"
   ]
  },
  {
   "cell_type": "code",
   "execution_count": null,
   "id": "bf2ed9b9-6c15-4ff2-8dfc-94f8b7f4da80",
   "metadata": {},
   "outputs": [],
   "source": []
  }
 ],
 "metadata": {
  "kernelspec": {
   "display_name": "Python 3 (ipykernel)",
   "language": "python",
   "name": "python3"
  },
  "language_info": {
   "codemirror_mode": {
    "name": "ipython",
    "version": 3
   },
   "file_extension": ".py",
   "mimetype": "text/x-python",
   "name": "python",
   "nbconvert_exporter": "python",
   "pygments_lexer": "ipython3",
   "version": "3.11.7"
  }
 },
 "nbformat": 4,
 "nbformat_minor": 5
}
