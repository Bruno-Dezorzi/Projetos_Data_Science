import pandas as pd
import numpy as np


from sklearn.datasets import load_iris

X_iris , y_iris = load_iris(return_X_y= True, as_frame= True)
iris = load_iris(as_frame= True)


iris_data = pd.DataFrame(X_iris, columns = iris.feature_names)
species_names = iris.target_names
iris_data['species'] = [species_names[i] for i in y_iris]
iris_data


from sklearn.preprocessing import StandardScaler
stscaler = StandardScaler()
X_iris = stscaler.fit_transform(X_iris)
X_iris


from sklearn.model_selection import train_test_split
X_train, X_test, y_train,y_test =train_test_split(X_iris,y_iris, test_size= 0.2, random_state= 50)


from sklearn.naive_bayes import GaussianNB
gaussian_alg = GaussianNB()
model_iris_gaussian = gaussian_alg.fit(X_train,y_train)


y_pred = model_iris_gaussian.predict(X_test)


from sklearn.metrics import accuracy_score
accuracy = accuracy_score(y_test,y_pred)
print(f"Acurácia: {accuracy:.2f}")



